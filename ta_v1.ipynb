{
 "cells": [
  {
   "cell_type": "markdown",
   "id": "7864e171",
   "metadata": {},
   "source": [
    "# Exploring the traffic accidents dataset"
   ]
  },
  {
   "cell_type": "markdown",
   "id": "24be45b1",
   "metadata": {},
   "source": [
    "Data used for this notebook represents traffic accidents in Serbia, by police departments (here shown as cities, for simplicity), for year 2022, and it comes from [open data](https://data.gov.rs/sr/datasets/) provided by Republic of Serbia. Imported csv file is not directly from the website mentioned above, it was slightly changed before it was imported here.\n",
    "\n",
    "The idea is to train models with informations about traffic accidents, such as the time of the accident, type of the accident, etc, and predict the outcome of new traffic accidents based on those informations. There are three different outcomes: 'material damage', 'injured' and 'died', so it is a multiclass classification problem."
   ]
  },
  {
   "cell_type": "markdown",
   "id": "a0f65376",
   "metadata": {},
   "source": [
    "## Getting the data"
   ]
  },
  {
   "cell_type": "code",
   "execution_count": 1,
   "id": "e602a873",
   "metadata": {},
   "outputs": [
    {
     "name": "stdout",
     "output_type": "stream",
     "text": [
      "Number of records: 33399\n"
     ]
    },
    {
     "data": {
      "text/html": [
       "<div>\n",
       "<style scoped>\n",
       "    .dataframe tbody tr th:only-of-type {\n",
       "        vertical-align: middle;\n",
       "    }\n",
       "\n",
       "    .dataframe tbody tr th {\n",
       "        vertical-align: top;\n",
       "    }\n",
       "\n",
       "    .dataframe thead th {\n",
       "        text-align: right;\n",
       "    }\n",
       "</style>\n",
       "<table border=\"1\" class=\"dataframe\">\n",
       "  <thead>\n",
       "    <tr style=\"text-align: right;\">\n",
       "      <th></th>\n",
       "      <th>0</th>\n",
       "      <th>1</th>\n",
       "    </tr>\n",
       "  </thead>\n",
       "  <tbody>\n",
       "    <tr>\n",
       "      <th>0</th>\n",
       "      <td>BEOGRAD;Zima;01.01.2022</td>\n",
       "      <td>02:30;02;20.430.508;44.580.407;Sa mat.stetom;S...</td>\n",
       "    </tr>\n",
       "    <tr>\n",
       "      <th>1</th>\n",
       "      <td>BEOGRAD;Zima;01.01.2022</td>\n",
       "      <td>16:10;16;2.034.629;4.460.398;Sa povredjenim;SN...</td>\n",
       "    </tr>\n",
       "    <tr>\n",
       "      <th>2</th>\n",
       "      <td>BEOGRAD;Zima;06.01.2022</td>\n",
       "      <td>12:10;12;20.414.231;44.577.657;Sa mat.stetom;S...</td>\n",
       "    </tr>\n",
       "    <tr>\n",
       "      <th>3</th>\n",
       "      <td>BEOGRAD;Zima;06.01.2022</td>\n",
       "      <td>11:00;11;2.039.882;4.460.251;Sa mat.stetom;SN ...</td>\n",
       "    </tr>\n",
       "    <tr>\n",
       "      <th>4</th>\n",
       "      <td>BEOGRAD;Zima;08.01.2022</td>\n",
       "      <td>20:15;20;20.344.523;44.602.351;Sa mat.stetom;S...</td>\n",
       "    </tr>\n",
       "  </tbody>\n",
       "</table>\n",
       "</div>"
      ],
      "text/plain": [
       "                         0                                                  1\n",
       "0  BEOGRAD;Zima;01.01.2022  02:30;02;20.430.508;44.580.407;Sa mat.stetom;S...\n",
       "1  BEOGRAD;Zima;01.01.2022  16:10;16;2.034.629;4.460.398;Sa povredjenim;SN...\n",
       "2  BEOGRAD;Zima;06.01.2022  12:10;12;20.414.231;44.577.657;Sa mat.stetom;S...\n",
       "3  BEOGRAD;Zima;06.01.2022  11:00;11;2.039.882;4.460.251;Sa mat.stetom;SN ...\n",
       "4  BEOGRAD;Zima;08.01.2022  20:15;20;20.344.523;44.602.351;Sa mat.stetom;S..."
      ]
     },
     "execution_count": 1,
     "metadata": {},
     "output_type": "execute_result"
    }
   ],
   "source": [
    "import pandas as pd\n",
    "\n",
    "df_ta = pd.read_csv('./ta-2022-2023.csv', header=None)\n",
    "print (f'Number of records: {len(df_ta)}')\n",
    "df_ta.head()"
   ]
  },
  {
   "cell_type": "markdown",
   "id": "f4e869bf",
   "metadata": {},
   "source": [
    "This dataset doesn't look good, so before doing anything else we need to make some changes."
   ]
  },
  {
   "cell_type": "markdown",
   "id": "a4474e90",
   "metadata": {},
   "source": [
    "## Editing DataFrame"
   ]
  },
  {
   "cell_type": "code",
   "execution_count": 2,
   "id": "87a0a899",
   "metadata": {},
   "outputs": [
    {
     "data": {
      "text/html": [
       "<div>\n",
       "<style scoped>\n",
       "    .dataframe tbody tr th:only-of-type {\n",
       "        vertical-align: middle;\n",
       "    }\n",
       "\n",
       "    .dataframe tbody tr th {\n",
       "        vertical-align: top;\n",
       "    }\n",
       "\n",
       "    .dataframe thead th {\n",
       "        text-align: right;\n",
       "    }\n",
       "</style>\n",
       "<table border=\"1\" class=\"dataframe\">\n",
       "  <thead>\n",
       "    <tr style=\"text-align: right;\">\n",
       "      <th></th>\n",
       "      <th>City</th>\n",
       "      <th>Season</th>\n",
       "      <th>Hour</th>\n",
       "      <th>Outcome</th>\n",
       "      <th>Type</th>\n",
       "    </tr>\n",
       "  </thead>\n",
       "  <tbody>\n",
       "    <tr>\n",
       "      <th>0</th>\n",
       "      <td>BEOGRAD</td>\n",
       "      <td>Zima</td>\n",
       "      <td>2</td>\n",
       "      <td>Sa mat.stetom</td>\n",
       "      <td>SN SA JEDNIM VOZILOM</td>\n",
       "    </tr>\n",
       "    <tr>\n",
       "      <th>1</th>\n",
       "      <td>BEOGRAD</td>\n",
       "      <td>Zima</td>\n",
       "      <td>16</td>\n",
       "      <td>Sa povredjenim</td>\n",
       "      <td>SN SA PARKIRANIM VOZILIMA</td>\n",
       "    </tr>\n",
       "    <tr>\n",
       "      <th>2</th>\n",
       "      <td>BEOGRAD</td>\n",
       "      <td>Zima</td>\n",
       "      <td>12</td>\n",
       "      <td>Sa mat.stetom</td>\n",
       "      <td>SN SA PARKIRANIM VOZILIMA</td>\n",
       "    </tr>\n",
       "    <tr>\n",
       "      <th>3</th>\n",
       "      <td>BEOGRAD</td>\n",
       "      <td>Zima</td>\n",
       "      <td>11</td>\n",
       "      <td>Sa mat.stetom</td>\n",
       "      <td>SN SA JEDNIM VOZILOM</td>\n",
       "    </tr>\n",
       "    <tr>\n",
       "      <th>4</th>\n",
       "      <td>BEOGRAD</td>\n",
       "      <td>Zima</td>\n",
       "      <td>20</td>\n",
       "      <td>Sa mat.stetom</td>\n",
       "      <td>SN SA PARKIRANIM VOZILIMA</td>\n",
       "    </tr>\n",
       "  </tbody>\n",
       "</table>\n",
       "</div>"
      ],
      "text/plain": [
       "      City Season  Hour         Outcome                       Type\n",
       "0  BEOGRAD   Zima     2   Sa mat.stetom       SN SA JEDNIM VOZILOM\n",
       "1  BEOGRAD   Zima    16  Sa povredjenim  SN SA PARKIRANIM VOZILIMA\n",
       "2  BEOGRAD   Zima    12   Sa mat.stetom  SN SA PARKIRANIM VOZILIMA\n",
       "3  BEOGRAD   Zima    11   Sa mat.stetom       SN SA JEDNIM VOZILOM\n",
       "4  BEOGRAD   Zima    20   Sa mat.stetom  SN SA PARKIRANIM VOZILIMA"
      ]
     },
     "execution_count": 2,
     "metadata": {},
     "output_type": "execute_result"
    }
   ],
   "source": [
    "# Extracting useful data and disregarding useless data\n",
    "df_ta[2] = df_ta[0].apply(lambda x: x.split(\";\", 1)[0])\n",
    "df_ta[3] = df_ta[0].apply(lambda x: x.split(\";\", 2)[1])\n",
    "df_ta[4] = df_ta[1].apply(lambda x: int(x.split(\";\", 2)[1]))\n",
    "df_ta[5] = df_ta[1].apply(lambda x: x.split(\";\", 5)[4])\n",
    "df_ta[6] = df_ta[1].apply(lambda x: x.split(\";\", 5)[5])\n",
    "\n",
    "df_ta = df_ta.drop([0, 1], axis=1)\n",
    "\n",
    "df_ta.columns = ['City', 'Season', 'Hour', 'Outcome', 'Type']\n",
    "df_ta.head()"
   ]
  },
  {
   "cell_type": "markdown",
   "id": "b62a9615",
   "metadata": {},
   "source": [
    "Now the DataFrame already looks much better. Next main thing is to replace text values with numerical."
   ]
  },
  {
   "cell_type": "code",
   "execution_count": 3,
   "id": "0757c13d",
   "metadata": {},
   "outputs": [
    {
     "name": "stdout",
     "output_type": "stream",
     "text": [
      "{'Sa mat.stetom': 0, 'Sa poginulim': 1, 'Sa povredjenim': 2}\n"
     ]
    },
    {
     "data": {
      "text/html": [
       "<div>\n",
       "<style scoped>\n",
       "    .dataframe tbody tr th:only-of-type {\n",
       "        vertical-align: middle;\n",
       "    }\n",
       "\n",
       "    .dataframe tbody tr th {\n",
       "        vertical-align: top;\n",
       "    }\n",
       "\n",
       "    .dataframe thead th {\n",
       "        text-align: right;\n",
       "    }\n",
       "</style>\n",
       "<table border=\"1\" class=\"dataframe\">\n",
       "  <thead>\n",
       "    <tr style=\"text-align: right;\">\n",
       "      <th></th>\n",
       "      <th>City</th>\n",
       "      <th>Season</th>\n",
       "      <th>Hour</th>\n",
       "      <th>Outcome</th>\n",
       "      <th>Type</th>\n",
       "    </tr>\n",
       "  </thead>\n",
       "  <tbody>\n",
       "    <tr>\n",
       "      <th>0</th>\n",
       "      <td>BEOGRAD</td>\n",
       "      <td>Zima</td>\n",
       "      <td>2</td>\n",
       "      <td>0</td>\n",
       "      <td>SN SA JEDNIM VOZILOM</td>\n",
       "    </tr>\n",
       "    <tr>\n",
       "      <th>1</th>\n",
       "      <td>BEOGRAD</td>\n",
       "      <td>Zima</td>\n",
       "      <td>16</td>\n",
       "      <td>2</td>\n",
       "      <td>SN SA PARKIRANIM VOZILIMA</td>\n",
       "    </tr>\n",
       "    <tr>\n",
       "      <th>2</th>\n",
       "      <td>BEOGRAD</td>\n",
       "      <td>Zima</td>\n",
       "      <td>12</td>\n",
       "      <td>0</td>\n",
       "      <td>SN SA PARKIRANIM VOZILIMA</td>\n",
       "    </tr>\n",
       "    <tr>\n",
       "      <th>3</th>\n",
       "      <td>BEOGRAD</td>\n",
       "      <td>Zima</td>\n",
       "      <td>11</td>\n",
       "      <td>0</td>\n",
       "      <td>SN SA JEDNIM VOZILOM</td>\n",
       "    </tr>\n",
       "    <tr>\n",
       "      <th>4</th>\n",
       "      <td>BEOGRAD</td>\n",
       "      <td>Zima</td>\n",
       "      <td>20</td>\n",
       "      <td>0</td>\n",
       "      <td>SN SA PARKIRANIM VOZILIMA</td>\n",
       "    </tr>\n",
       "  </tbody>\n",
       "</table>\n",
       "</div>"
      ],
      "text/plain": [
       "      City Season  Hour  Outcome                       Type\n",
       "0  BEOGRAD   Zima     2        0       SN SA JEDNIM VOZILOM\n",
       "1  BEOGRAD   Zima    16        2  SN SA PARKIRANIM VOZILIMA\n",
       "2  BEOGRAD   Zima    12        0  SN SA PARKIRANIM VOZILIMA\n",
       "3  BEOGRAD   Zima    11        0       SN SA JEDNIM VOZILOM\n",
       "4  BEOGRAD   Zima    20        0  SN SA PARKIRANIM VOZILIMA"
      ]
     },
     "execution_count": 3,
     "metadata": {},
     "output_type": "execute_result"
    }
   ],
   "source": [
    "import numpy as np\n",
    "\n",
    "# Mapping numerical values to class labels\n",
    "class_mapping = {label: idx for idx, label in enumerate(np.unique(df_ta['Outcome']))}\n",
    "df_ta['Outcome'] = df_ta['Outcome'].map(class_mapping)\n",
    "print(class_mapping)\n",
    "df_ta.head()"
   ]
  },
  {
   "cell_type": "code",
   "execution_count": 4,
   "id": "e3c9e67e",
   "metadata": {},
   "outputs": [
    {
     "data": {
      "text/html": [
       "<div>\n",
       "<style scoped>\n",
       "    .dataframe tbody tr th:only-of-type {\n",
       "        vertical-align: middle;\n",
       "    }\n",
       "\n",
       "    .dataframe tbody tr th {\n",
       "        vertical-align: top;\n",
       "    }\n",
       "\n",
       "    .dataframe thead th {\n",
       "        text-align: right;\n",
       "    }\n",
       "</style>\n",
       "<table border=\"1\" class=\"dataframe\">\n",
       "  <thead>\n",
       "    <tr style=\"text-align: right;\">\n",
       "      <th></th>\n",
       "      <th>City</th>\n",
       "      <th>Hour</th>\n",
       "      <th>Season_Summer</th>\n",
       "      <th>Season_Spring</th>\n",
       "      <th>Season_Winter</th>\n",
       "      <th>Type_At least two vehicles - no turning</th>\n",
       "      <th>Type_At least two vehicles - turning</th>\n",
       "      <th>Type_With parked vehicle</th>\n",
       "      <th>Type_With pedestrian</th>\n",
       "      <th>Outcome</th>\n",
       "    </tr>\n",
       "  </thead>\n",
       "  <tbody>\n",
       "    <tr>\n",
       "      <th>0</th>\n",
       "      <td>BEOGRAD</td>\n",
       "      <td>2</td>\n",
       "      <td>0</td>\n",
       "      <td>0</td>\n",
       "      <td>1</td>\n",
       "      <td>0</td>\n",
       "      <td>0</td>\n",
       "      <td>0</td>\n",
       "      <td>0</td>\n",
       "      <td>0</td>\n",
       "    </tr>\n",
       "    <tr>\n",
       "      <th>1</th>\n",
       "      <td>BEOGRAD</td>\n",
       "      <td>16</td>\n",
       "      <td>0</td>\n",
       "      <td>0</td>\n",
       "      <td>1</td>\n",
       "      <td>0</td>\n",
       "      <td>0</td>\n",
       "      <td>1</td>\n",
       "      <td>0</td>\n",
       "      <td>2</td>\n",
       "    </tr>\n",
       "    <tr>\n",
       "      <th>2</th>\n",
       "      <td>BEOGRAD</td>\n",
       "      <td>12</td>\n",
       "      <td>0</td>\n",
       "      <td>0</td>\n",
       "      <td>1</td>\n",
       "      <td>0</td>\n",
       "      <td>0</td>\n",
       "      <td>1</td>\n",
       "      <td>0</td>\n",
       "      <td>0</td>\n",
       "    </tr>\n",
       "    <tr>\n",
       "      <th>3</th>\n",
       "      <td>BEOGRAD</td>\n",
       "      <td>11</td>\n",
       "      <td>0</td>\n",
       "      <td>0</td>\n",
       "      <td>1</td>\n",
       "      <td>0</td>\n",
       "      <td>0</td>\n",
       "      <td>0</td>\n",
       "      <td>0</td>\n",
       "      <td>0</td>\n",
       "    </tr>\n",
       "    <tr>\n",
       "      <th>4</th>\n",
       "      <td>BEOGRAD</td>\n",
       "      <td>20</td>\n",
       "      <td>0</td>\n",
       "      <td>0</td>\n",
       "      <td>1</td>\n",
       "      <td>0</td>\n",
       "      <td>0</td>\n",
       "      <td>1</td>\n",
       "      <td>0</td>\n",
       "      <td>0</td>\n",
       "    </tr>\n",
       "  </tbody>\n",
       "</table>\n",
       "</div>"
      ],
      "text/plain": [
       "      City  Hour  Season_Summer  Season_Spring  Season_Winter  \\\n",
       "0  BEOGRAD     2              0              0              1   \n",
       "1  BEOGRAD    16              0              0              1   \n",
       "2  BEOGRAD    12              0              0              1   \n",
       "3  BEOGRAD    11              0              0              1   \n",
       "4  BEOGRAD    20              0              0              1   \n",
       "\n",
       "   Type_At least two vehicles - no turning  \\\n",
       "0                                        0   \n",
       "1                                        0   \n",
       "2                                        0   \n",
       "3                                        0   \n",
       "4                                        0   \n",
       "\n",
       "   Type_At least two vehicles - turning  Type_With parked vehicle  \\\n",
       "0                                     0                         0   \n",
       "1                                     0                         1   \n",
       "2                                     0                         1   \n",
       "3                                     0                         0   \n",
       "4                                     0                         1   \n",
       "\n",
       "   Type_With pedestrian  Outcome  \n",
       "0                     0        0  \n",
       "1                     0        2  \n",
       "2                     0        0  \n",
       "3                     0        0  \n",
       "4                     0        0  "
      ]
     },
     "execution_count": 4,
     "metadata": {},
     "output_type": "execute_result"
    }
   ],
   "source": [
    "# Performing one-hot encoding for season and type \n",
    "df_ta = pd.get_dummies(df_ta, prefix=['Season', 'Type'], columns=['Season', 'Type'], drop_first=True)\n",
    "# Renaming columns\n",
    "df_ta.rename(columns={'Season_Leto': 'Season_Summer', 'Season_Prolece': 'Season_Spring', 'Season_Zima': 'Season_Winter', 'Type_SN SA NAJMANjE DVA VOZILA – BEZ SKRETANjA': 'Type_At least two vehicles - no turning', 'Type_SN SA NAJMANjE DVA VOZILA – SKRETANjE ILI PRELAZAK': 'Type_At least two vehicles - turning', 'Type_SN SA PARKIRANIM VOZILIMA': 'Type_With parked vehicle', 'Type_SN SA PEŠACIMA': 'Type_With pedestrian'}, inplace=True)\n",
    "# Reordering columns\n",
    "df_ta = df_ta[['City', 'Hour', 'Season_Summer', 'Season_Spring', 'Season_Winter', 'Type_At least two vehicles - no turning', 'Type_At least two vehicles - turning', 'Type_With parked vehicle', 'Type_With pedestrian', 'Outcome']]\n",
    "df_ta.head()"
   ]
  },
  {
   "cell_type": "markdown",
   "id": "bd413a53",
   "metadata": {},
   "source": [
    "Let's check the ratio between the different class labels (traffic accident outcomes)."
   ]
  },
  {
   "cell_type": "code",
   "execution_count": 5,
   "id": "e2bab113",
   "metadata": {},
   "outputs": [
    {
     "data": {
      "image/png": "[encoded data removed]",
      "text/plain": [
       "<Figure size 1000x500 with 1 Axes>"
      ]
     },
     "metadata": {},
     "output_type": "display_data"
    }
   ],
   "source": [
    "import matplotlib.pyplot as plt\n",
    "\n",
    "outcomes, counts = np.unique(df_ta['Outcome'], return_counts=True)\n",
    "outcomes = ['Material damage', 'Injured', 'Died']\n",
    "counts = sorted(counts, reverse=True)\n",
    "\n",
    "fig = plt.figure(figsize = (10, 5))\n",
    " \n",
    "# Creating the bar plot\n",
    "plt.bar(outcomes, counts, color ='cornflowerblue',\n",
    "        width = 0.4)\n",
    " \n",
    "plt.xlabel(\"Outcomes\")\n",
    "plt.ylabel(\"Number of instances\")\n",
    "plt.title(\"Number of different outcome istances\")\n",
    "plt.show()"
   ]
  },
  {
   "cell_type": "markdown",
   "id": "558d7c66",
   "metadata": {},
   "source": [
    "As we can see, outcome is 'material damage' in most cases. There are a lot of 'injured' outcomes as well, but there is significantly less 'died' outcomes, luckily.\n",
    "\n",
    "Next, we can check the ratio between the different cities where the traffic accidents happened. Let's create a bar chart consisted of the six cities with the most traffic accidents."
   ]
  },
  {
   "cell_type": "code",
   "execution_count": 6,
   "id": "f53f9ddf",
   "metadata": {},
   "outputs": [
    {
     "data": {
      "image/png": "[encoded data removed]",
      "text/plain": [
       "<Figure size 1000x500 with 1 Axes>"
      ]
     },
     "metadata": {},
     "output_type": "display_data"
    }
   ],
   "source": [
    "# Finding six cities with most traffic accidents\n",
    "cities, counts = np.unique(df_ta['City'], return_counts=True)\n",
    "cities_dict = dict(zip(cities, counts))\n",
    "sorted_cities = dict(sorted(cities_dict.items(), key=lambda x:x[1], reverse=True))\n",
    "cities_top_six = list(sorted_cities.keys())[:6]\n",
    "counts_top_six = list(sorted_cities.values())[:6]\n",
    "\n",
    "fig = plt.figure(figsize = (10, 5))\n",
    " \n",
    "# Creating the bar plot\n",
    "plt.bar(cities_top_six, counts_top_six, color ='cornflowerblue',\n",
    "        width = 0.4)\n",
    "\n",
    "plt.xlabel(\"Cities\")\n",
    "plt.ylabel(\"Number of traffic accidents\")\n",
    "plt.title(\"Cities with most traffic accidents\")\n",
    "plt.show()"
   ]
  },
  {
   "cell_type": "markdown",
   "id": "bebbf889",
   "metadata": {},
   "source": [
    "There are definitely the most cases of traffic accidents in Belgrade, while rest of the cities are relatively close to each other.\n",
    "\n",
    "City column is still not numerical, we need to change that, but since there are a lof of different cities we wont go with one-hot encoder. We will use the count encoder from the category_encoders library. With this type of encoder we will change the city names with number of occurencies of that particular city."
   ]
  },
  {
   "cell_type": "code",
   "execution_count": 7,
   "id": "b6317b4d",
   "metadata": {},
   "outputs": [
    {
     "data": {
      "text/html": [
       "<div>\n",
       "<style scoped>\n",
       "    .dataframe tbody tr th:only-of-type {\n",
       "        vertical-align: middle;\n",
       "    }\n",
       "\n",
       "    .dataframe tbody tr th {\n",
       "        vertical-align: top;\n",
       "    }\n",
       "\n",
       "    .dataframe thead th {\n",
       "        text-align: right;\n",
       "    }\n",
       "</style>\n",
       "<table border=\"1\" class=\"dataframe\">\n",
       "  <thead>\n",
       "    <tr style=\"text-align: right;\">\n",
       "      <th></th>\n",
       "      <th>City</th>\n",
       "      <th>Hour</th>\n",
       "      <th>Season_Summer</th>\n",
       "      <th>Season_Spring</th>\n",
       "      <th>Season_Winter</th>\n",
       "      <th>Type_At least two vehicles - no turning</th>\n",
       "      <th>Type_At least two vehicles - turning</th>\n",
       "      <th>Type_With parked vehicle</th>\n",
       "      <th>Type_With pedestrian</th>\n",
       "      <th>Outcome</th>\n",
       "    </tr>\n",
       "  </thead>\n",
       "  <tbody>\n",
       "    <tr>\n",
       "      <th>0</th>\n",
       "      <td>14830</td>\n",
       "      <td>2</td>\n",
       "      <td>0</td>\n",
       "      <td>0</td>\n",
       "      <td>1</td>\n",
       "      <td>0</td>\n",
       "      <td>0</td>\n",
       "      <td>0</td>\n",
       "      <td>0</td>\n",
       "      <td>0</td>\n",
       "    </tr>\n",
       "    <tr>\n",
       "      <th>1</th>\n",
       "      <td>14830</td>\n",
       "      <td>16</td>\n",
       "      <td>0</td>\n",
       "      <td>0</td>\n",
       "      <td>1</td>\n",
       "      <td>0</td>\n",
       "      <td>0</td>\n",
       "      <td>1</td>\n",
       "      <td>0</td>\n",
       "      <td>2</td>\n",
       "    </tr>\n",
       "    <tr>\n",
       "      <th>2</th>\n",
       "      <td>14830</td>\n",
       "      <td>12</td>\n",
       "      <td>0</td>\n",
       "      <td>0</td>\n",
       "      <td>1</td>\n",
       "      <td>0</td>\n",
       "      <td>0</td>\n",
       "      <td>1</td>\n",
       "      <td>0</td>\n",
       "      <td>0</td>\n",
       "    </tr>\n",
       "    <tr>\n",
       "      <th>3</th>\n",
       "      <td>14830</td>\n",
       "      <td>11</td>\n",
       "      <td>0</td>\n",
       "      <td>0</td>\n",
       "      <td>1</td>\n",
       "      <td>0</td>\n",
       "      <td>0</td>\n",
       "      <td>0</td>\n",
       "      <td>0</td>\n",
       "      <td>0</td>\n",
       "    </tr>\n",
       "    <tr>\n",
       "      <th>4</th>\n",
       "      <td>14830</td>\n",
       "      <td>20</td>\n",
       "      <td>0</td>\n",
       "      <td>0</td>\n",
       "      <td>1</td>\n",
       "      <td>0</td>\n",
       "      <td>0</td>\n",
       "      <td>1</td>\n",
       "      <td>0</td>\n",
       "      <td>0</td>\n",
       "    </tr>\n",
       "  </tbody>\n",
       "</table>\n",
       "</div>"
      ],
      "text/plain": [
       "    City  Hour  Season_Summer  Season_Spring  Season_Winter  \\\n",
       "0  14830     2              0              0              1   \n",
       "1  14830    16              0              0              1   \n",
       "2  14830    12              0              0              1   \n",
       "3  14830    11              0              0              1   \n",
       "4  14830    20              0              0              1   \n",
       "\n",
       "   Type_At least two vehicles - no turning  \\\n",
       "0                                        0   \n",
       "1                                        0   \n",
       "2                                        0   \n",
       "3                                        0   \n",
       "4                                        0   \n",
       "\n",
       "   Type_At least two vehicles - turning  Type_With parked vehicle  \\\n",
       "0                                     0                         0   \n",
       "1                                     0                         1   \n",
       "2                                     0                         1   \n",
       "3                                     0                         0   \n",
       "4                                     0                         1   \n",
       "\n",
       "   Type_With pedestrian  Outcome  \n",
       "0                     0        0  \n",
       "1                     0        2  \n",
       "2                     0        0  \n",
       "3                     0        0  \n",
       "4                     0        0  "
      ]
     },
     "execution_count": 7,
     "metadata": {},
     "output_type": "execute_result"
    }
   ],
   "source": [
    "import category_encoders as ce\n",
    "\n",
    "cities = df_ta[['City']].values\n",
    "# Using count encoder for replacing the names of the cities with the city counts\n",
    "count_enc = ce.CountEncoder()\n",
    "count_encoded = count_enc.fit_transform(cities)\n",
    "df_ta['City'] = count_encoded\n",
    "df_ta.head()"
   ]
  },
  {
   "cell_type": "markdown",
   "id": "d49613fb",
   "metadata": {},
   "source": [
    "We are done with the DataFrame editing, now we can partition the dataset into a separate training and test set."
   ]
  },
  {
   "cell_type": "markdown",
   "id": "5c9a150f",
   "metadata": {},
   "source": [
    "## Splitting the data"
   ]
  },
  {
   "cell_type": "code",
   "execution_count": 8,
   "id": "87c97e2b",
   "metadata": {},
   "outputs": [],
   "source": [
    "from sklearn.model_selection import train_test_split\n",
    "\n",
    "X, y = df_ta.iloc[:, :-1].values, df_ta.iloc[:, -1:].values\n",
    "\n",
    "X_train, X_test, y_train, y_test = train_test_split(X, y,\n",
    "                                                    test_size=0.3,\n",
    "                                                    random_state=0,\n",
    "                                                    stratify=y)"
   ]
  },
  {
   "cell_type": "markdown",
   "id": "3daf44c9",
   "metadata": {},
   "source": [
    "## Bringing features onto the same scale"
   ]
  },
  {
   "cell_type": "markdown",
   "id": "9928edf2",
   "metadata": {},
   "source": [
    "Scaling the attributes is very important step because most of the ML algorithms perform better if all attributes are in the same scale. Here we will use the standardisation approach."
   ]
  },
  {
   "cell_type": "code",
   "execution_count": 9,
   "id": "49b8f944",
   "metadata": {},
   "outputs": [],
   "source": [
    "from sklearn.preprocessing import StandardScaler\n",
    "\n",
    "stdsc = StandardScaler()\n",
    "X_train_std = stdsc.fit_transform(X_train)\n",
    "X_test_std = stdsc.transform(X_test)"
   ]
  },
  {
   "cell_type": "markdown",
   "id": "178bae17",
   "metadata": {},
   "source": [
    "## Fitting and evaluating the model"
   ]
  },
  {
   "cell_type": "code",
   "execution_count": 10,
   "id": "42565ed3",
   "metadata": {},
   "outputs": [
    {
     "name": "stdout",
     "output_type": "stream",
     "text": [
      "Training accuracy: 69.62\n",
      "Test accuracy: 70.36\n"
     ]
    }
   ],
   "source": [
    "# Logistic Regression\n",
    "\n",
    "from sklearn.linear_model import LogisticRegression\n",
    "\n",
    "lr = LogisticRegression(solver='lbfgs', multi_class='ovr')\n",
    "lr.fit(X_train_std, y_train.ravel())\n",
    "\n",
    "training_acc_lr = round(lr.score(X_train_std, y_train) * 100, 2)\n",
    "test_acc_lr = round(lr.score(X_test_std, y_test) * 100, 2)\n",
    "\n",
    "print('Training accuracy:', training_acc_lr)\n",
    "print('Test accuracy:', test_acc_lr)"
   ]
  },
  {
   "cell_type": "code",
   "execution_count": 11,
   "id": "3eb246fb",
   "metadata": {},
   "outputs": [
    {
     "name": "stdout",
     "output_type": "stream",
     "text": [
      "Training accuracy: 69.67\n",
      "Test accuracy: 70.5\n"
     ]
    }
   ],
   "source": [
    "# Support Vector Machines\n",
    "\n",
    "from sklearn.svm import SVC\n",
    "\n",
    "svm = SVC(kernel='linear', random_state=1)\n",
    "svm.fit(X_train_std, y_train.ravel())\n",
    "\n",
    "training_acc_svm = round(svm.score(X_train_std, y_train) * 100, 2)\n",
    "test_acc_svm = round(svm.score(X_test_std, y_test) * 100, 2)\n",
    "\n",
    "print('Training accuracy:', training_acc_svm)\n",
    "print('Test accuracy:', test_acc_svm)"
   ]
  },
  {
   "cell_type": "code",
   "execution_count": 12,
   "id": "bce8da8d",
   "metadata": {},
   "outputs": [
    {
     "name": "stdout",
     "output_type": "stream",
     "text": [
      "Training accuracy: 71.62\n",
      "Test accuracy: 70.81\n"
     ]
    }
   ],
   "source": [
    "# Decision Tree\n",
    "\n",
    "from sklearn.tree import DecisionTreeClassifier\n",
    "\n",
    "tree_model = DecisionTreeClassifier(criterion='gini', \n",
    "                                    max_depth=10,\n",
    "                                    random_state=1)\n",
    "tree_model.fit(X_train, y_train.ravel())\n",
    "\n",
    "training_acc_dt = round(tree_model.score(X_train, y_train) * 100, 2)\n",
    "test_acc_dt = round(tree_model.score(X_test, y_test) * 100, 2)\n",
    "\n",
    "print('Training accuracy:', training_acc_dt)\n",
    "print('Test accuracy:', test_acc_dt)"
   ]
  },
  {
   "cell_type": "code",
   "execution_count": 21,
   "id": "83a1d439",
   "metadata": {},
   "outputs": [
    {
     "name": "stdout",
     "output_type": "stream",
     "text": [
      "Training accuracy: 80.02\n",
      "Test accuracy: 68.42\n"
     ]
    }
   ],
   "source": [
    "# Random Forest\n",
    "\n",
    "from sklearn.ensemble import RandomForestClassifier\n",
    "\n",
    "forest = RandomForestClassifier(n_estimators=20, \n",
    "                                random_state=1,\n",
    "                                n_jobs=2)\n",
    "forest.fit(X_train, y_train.ravel())\n",
    "\n",
    "training_acc_rf = round(forest.score(X_train, y_train) * 100, 2)\n",
    "test_acc_rf = round(forest.score(X_test, y_test) * 100, 2)\n",
    "\n",
    "print('Training accuracy:', training_acc_rf)\n",
    "print('Test accuracy:', test_acc_rf)"
   ]
  },
  {
   "cell_type": "code",
   "execution_count": 14,
   "id": "865f7bb5",
   "metadata": {},
   "outputs": [
    {
     "name": "stdout",
     "output_type": "stream",
     "text": [
      "Training accuracy: 74.13\n",
      "Test accuracy: 68.72\n"
     ]
    }
   ],
   "source": [
    "# KNN\n",
    "\n",
    "from sklearn.neighbors import KNeighborsClassifier\n",
    "\n",
    "knn = KNeighborsClassifier(n_neighbors=6, \n",
    "                           p=1, \n",
    "                           metric='minkowski')\n",
    "knn.fit(X_train_std, y_train.ravel())\n",
    "\n",
    "training_acc_knn = round(knn.score(X_train_std, y_train) * 100, 2)\n",
    "test_acc_knn = round(knn.score(X_test_std, y_test) * 100, 2)\n",
    "\n",
    "print('Training accuracy:', training_acc_knn)\n",
    "print('Test accuracy:', test_acc_knn)"
   ]
  },
  {
   "cell_type": "markdown",
   "id": "15096a3f",
   "metadata": {},
   "source": [
    "We trained five different models, in which we used: logistic regression, support vector machines, decision tree, random forest and k-nearest neighbors. We were checking both training and test set accuracy to see if there are any signs of overfitting (indicator of overfitting would be much better score in training set compared to test set) and it seems like we didn't have any problems with that, but we definitely didn't get great score in any of these models (slightly over 70 at best). Although decision tree model performed the best, they were all really close to each other. Let's see final results in a table."
   ]
  },
  {
   "cell_type": "code",
   "execution_count": 15,
   "id": "3a7aecaa",
   "metadata": {
    "scrolled": false
   },
   "outputs": [
    {
     "data": {
      "text/html": [
       "<div>\n",
       "<style scoped>\n",
       "    .dataframe tbody tr th:only-of-type {\n",
       "        vertical-align: middle;\n",
       "    }\n",
       "\n",
       "    .dataframe tbody tr th {\n",
       "        vertical-align: top;\n",
       "    }\n",
       "\n",
       "    .dataframe thead th {\n",
       "        text-align: right;\n",
       "    }\n",
       "</style>\n",
       "<table border=\"1\" class=\"dataframe\">\n",
       "  <thead>\n",
       "    <tr style=\"text-align: right;\">\n",
       "      <th></th>\n",
       "      <th>Model</th>\n",
       "      <th>Score</th>\n",
       "    </tr>\n",
       "  </thead>\n",
       "  <tbody>\n",
       "    <tr>\n",
       "      <th>2</th>\n",
       "      <td>Decision Tree</td>\n",
       "      <td>70.81</td>\n",
       "    </tr>\n",
       "    <tr>\n",
       "      <th>1</th>\n",
       "      <td>Support Vector Machines</td>\n",
       "      <td>70.50</td>\n",
       "    </tr>\n",
       "    <tr>\n",
       "      <th>0</th>\n",
       "      <td>Logistic Regression</td>\n",
       "      <td>70.36</td>\n",
       "    </tr>\n",
       "    <tr>\n",
       "      <th>4</th>\n",
       "      <td>KNN</td>\n",
       "      <td>68.72</td>\n",
       "    </tr>\n",
       "    <tr>\n",
       "      <th>3</th>\n",
       "      <td>Random Forest</td>\n",
       "      <td>68.42</td>\n",
       "    </tr>\n",
       "  </tbody>\n",
       "</table>\n",
       "</div>"
      ],
      "text/plain": [
       "                     Model  Score\n",
       "2            Decision Tree  70.81\n",
       "1  Support Vector Machines  70.50\n",
       "0      Logistic Regression  70.36\n",
       "4                      KNN  68.72\n",
       "3            Random Forest  68.42"
      ]
     },
     "execution_count": 15,
     "metadata": {},
     "output_type": "execute_result"
    }
   ],
   "source": [
    "# Model evaluation\n",
    "\n",
    "models = pd.DataFrame({\n",
    "    'Model': ['Logistic Regression', 'Support Vector Machines', 'Decision Tree', 'Random Forest', 'KNN'],\n",
    "    'Score': [test_acc_lr, test_acc_svm, test_acc_dt, \n",
    "              test_acc_rf, test_acc_knn]})\n",
    "models.sort_values(by='Score', ascending=False)"
   ]
  },
  {
   "cell_type": "code",
   "execution_count": null,
   "id": "395f2089",
   "metadata": {},
   "outputs": [],
   "source": []
  }
 ],
 "metadata": {
  "kernelspec": {
   "display_name": "Python 3 (ipykernel)",
   "language": "python",
   "name": "python3"
  },
  "language_info": {
   "codemirror_mode": {
    "name": "ipython",
    "version": 3
   },
   "file_extension": ".py",
   "mimetype": "text/x-python",
   "name": "python",
   "nbconvert_exporter": "python",
   "pygments_lexer": "ipython3",
   "version": "3.11.2"
  }
 },
 "nbformat": 4,
 "nbformat_minor": 5
}
